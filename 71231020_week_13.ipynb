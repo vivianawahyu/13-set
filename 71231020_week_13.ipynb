{
  "nbformat": 4,
  "nbformat_minor": 0,
  "metadata": {
    "colab": {
      "provenance": []
    },
    "kernelspec": {
      "name": "python3",
      "display_name": "Python 3"
    },
    "language_info": {
      "name": "python"
    }
  },
  "cells": [
    {
      "cell_type": "markdown",
      "source": [
        "soal 1"
      ],
      "metadata": {
        "id": "XnFvae8zwzxr"
      }
    },
    {
      "cell_type": "code",
      "source": [
        "n = int(input(\"masukkann jumlah= \"))\n",
        "app_data = {}\n",
        "for i in range(n):\n",
        "    nama = input(\"masukkan nama: \")\n",
        "    print(f\"masukan 5 aplikasi pada kategori{nama}\")\n",
        "    apps = []\n",
        "    for j in range(5):\n",
        "        nama = input(f'masukkan nama app ke-{j+1}:')\n",
        "        apps.append(nama)\n",
        "    app_data[nama] = apps\n",
        "print('\\nData Apl')\n",
        "print(app_data)\n",
        "kategori_1 = set()\n",
        "kategori_2 = set()\n",
        "\n",
        "for apps in app_data.values():\n",
        "    for apk in apps:\n",
        "        muncul = sum(apk in apps for apps in app_data.values())\n",
        "        if muncul == 1:\n",
        "            kategori_1.add(apk)\n",
        "        elif muncul == 2:\n",
        "            kategori_2.add(apk)\n",
        "i = 1\n",
        "print(\"aplikasi 1 kategori:\")\n",
        "for apps in kategori_1:\n",
        "    print(f\"{j}. {apps}\")\n",
        "    i += 1\n",
        "j = 1\n",
        "print(\"aplikasi ada di 2 kategori: \")\n",
        "if kategori_2:\n",
        "    for apps in kategori_2:\n",
        "        print(f\"{j}. {apps}\")\n",
        "        j += 1\n",
        "else:\n",
        "    print(\"tidak ada yg muncul di 2 kategori.\")"
      ],
      "metadata": {
        "colab": {
          "base_uri": "https://localhost:8080/"
        },
        "id": "on57fRSQw3FE",
        "outputId": "266ed1bf-8eea-48ee-fbc8-8f1c5b57bd4e"
      },
      "execution_count": 1,
      "outputs": [
        {
          "output_type": "stream",
          "name": "stdout",
          "text": [
            "masukkann jumlah= 2\n",
            "masukkan nama: medsos\n",
            "masukan 5 aplikasi pada kategorimedsos\n",
            "masukkan nama app ke-1:tt\n",
            "masukkan nama app ke-3:ig\n",
            "masukkan nama app ke-4:wa\n",
            "masukkan nama app ke-5:twtr\n",
            "masukkan nama: apl\n",
            "masukan 5 aplikasi pada kategoriapl\n",
            "masukkan nama app ke-1:pubg\n",
            "masukkan nama app ke-2:tt\n",
            "masukkan nama app ke-3:ff\n",
            "masukkan nama app ke-4:wa\n",
            "masukkan nama app ke-5:ig\n",
            "\n",
            "Data Apl\n",
            "{'twtr': ['tt', 'tt', 'ig', 'wa', 'twtr'], 'ig': ['pubg', 'tt', 'ff', 'wa', 'ig']}\n",
            "aplikasi 1 kategori:\n",
            "4. ff\n",
            "4. pubg\n",
            "4. twtr\n",
            "aplikasi ada di 2 kategori: \n",
            "1. wa\n",
            "2. tt\n",
            "3. ig\n"
          ]
        }
      ]
    },
    {
      "cell_type": "markdown",
      "source": [
        "soal 2\n"
      ],
      "metadata": {
        "id": "UezaUmtmQ2IP"
      }
    },
    {
      "cell_type": "code",
      "source": [
        "def list_set(lst):\n",
        "    return set(lst)\n",
        "ex = [1,2,3]\n",
        "print('before', ex)\n",
        "print('after',list_set(ex))\n",
        "\n",
        "def set_list(set):\n",
        "    return list(set)\n",
        "ex = set((1,2,3))\n",
        "print('before', ex)\n",
        "print('after', set_list(ex))\n",
        "\n",
        "def tuple_set(tpl):\n",
        "    return set(tpl)\n",
        "ex = (1,2,3)\n",
        "print('before',ex)\n",
        "print('after', tuple_set(ex))\n",
        "\n",
        "def set_tuple(set):\n",
        "    return tuple(set)\n",
        "ex = set((1,2,3))\n",
        "print('before', ex)\n",
        "print('after', set_tuple(ex))"
      ],
      "metadata": {
        "colab": {
          "base_uri": "https://localhost:8080/"
        },
        "id": "Df0X2jXKQ2_s",
        "outputId": "eee23777-d00b-4fc4-9cea-6b27a0a39cd9"
      },
      "execution_count": 2,
      "outputs": [
        {
          "output_type": "stream",
          "name": "stdout",
          "text": [
            "before [1, 2, 3]\n",
            "after {1, 2, 3}\n",
            "before {1, 2, 3}\n",
            "after [1, 2, 3]\n",
            "before (1, 2, 3)\n",
            "after {1, 2, 3}\n",
            "before {1, 2, 3}\n",
            "after (1, 2, 3)\n"
          ]
        }
      ]
    },
    {
      "cell_type": "markdown",
      "source": [
        "soal 3"
      ],
      "metadata": {
        "id": "WZRDOT5tQ87t"
      }
    },
    {
      "cell_type": "code",
      "source": [
        "def baca_file(file1, file2):\n",
        "    try:\n",
        "        with open(file1, 'r') as f_satu, open(file2, 'r') as f_dua:\n",
        "            text_1 = f_satu.read().lower().split()\n",
        "            kata_1 = set(text_1)\n",
        "            text_2 = f_dua.read().lower().split()\n",
        "            kata_2 = set(text_2)\n",
        "            semua = kata_1 | kata_2\n",
        "            print(\"isi data yg kamu mau: \")\n",
        "            print(list(semua))\n",
        "\n",
        "            kata_bersama = kata_1 & kata_2\n",
        "            if kata_bersama:\n",
        "                print(\"kata di 2 file sama: \")\n",
        "                i = 1\n",
        "                for kata in kata_bersama:\n",
        "                    print(f\"{i}.{kata}\")\n",
        "                    i += 1\n",
        "            else:\n",
        "                print(\"tidak ada kata yg sama\")\n",
        "    except FileNotFoundError:\n",
        "            print(\"file not found\")\n",
        "file1 = input(\"masukkan file1:\")\n",
        "file2 = input(\"masukkan file2:\")\n",
        "baca_file(file1, file2)"
      ],
      "metadata": {
        "id": "mJoqIcfDQ9ws"
      },
      "execution_count": null,
      "outputs": []
    }
  ]
}